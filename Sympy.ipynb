{
 "cells": [
  {
   "cell_type": "code",
   "execution_count": 1,
   "id": "113d22ef-6359-44b9-a84c-ec2639c8da60",
   "metadata": {
    "tags": []
   },
   "outputs": [],
   "source": [
    "import sympy"
   ]
  },
  {
   "cell_type": "markdown",
   "id": "824692a1-1a5a-41ff-8495-1e09641900d0",
   "metadata": {
    "tags": []
   },
   "source": [
    "# basic"
   ]
  },
  {
   "cell_type": "code",
   "execution_count": 3,
   "id": "1cbc240a-e02d-4f3b-b742-bab95215d922",
   "metadata": {
    "tags": []
   },
   "outputs": [],
   "source": [
    "# ทำให้ python รู้ว่าเป็นตัวแปร\n",
    "x = sympy.symbols('x')\n",
    "y = sympy.symbols('y')\n",
    "z = sympy.symbols('z')"
   ]
  },
  {
   "cell_type": "code",
   "execution_count": 4,
   "id": "a7a10b7f-f6fe-4efb-8ec3-1e7e7ffef6b4",
   "metadata": {
    "tags": []
   },
   "outputs": [
    {
     "name": "stdout",
     "output_type": "stream",
     "text": [
      "6\n",
      "-2\n",
      "8\n",
      "0.5\n",
      "sqrt(2) + 2\n"
     ]
    },
    {
     "data": {
      "text/latex": [
       "$\\displaystyle \\sqrt{2} + 2$"
      ],
      "text/plain": [
       "sqrt(2) + 2"
      ]
     },
     "execution_count": 4,
     "metadata": {},
     "output_type": "execute_result"
    }
   ],
   "source": [
    "# การดำเนินการ\n",
    "print(2+4)\n",
    "print(2-4)\n",
    "print(2*4)\n",
    "print(2/4)\n",
    "print(sympy.sqrt(2) + sympy.sqrt(4))\n",
    "sympy.sqrt(2) + sympy.sqrt(4)"
   ]
  },
  {
   "cell_type": "code",
   "execution_count": 5,
   "id": "33d3c87e-8153-444d-978e-e39ace11a2c0",
   "metadata": {
    "tags": []
   },
   "outputs": [
    {
     "data": {
      "text/latex": [
       "$\\displaystyle e^{x}$"
      ],
      "text/plain": [
       "exp(x)"
      ]
     },
     "execution_count": 5,
     "metadata": {},
     "output_type": "execute_result"
    }
   ],
   "source": [
    "sympy.exp(x)"
   ]
  },
  {
   "cell_type": "code",
   "execution_count": 6,
   "id": "36c11b4d-1470-4558-a876-d1c5c42b138d",
   "metadata": {
    "tags": []
   },
   "outputs": [
    {
     "data": {
      "text/latex": [
       "$\\displaystyle \\sin{\\left(x \\right)} + \\tan{\\left(x \\right)} + \\sec{\\left(x \\right)}$"
      ],
      "text/plain": [
       "sin(x) + tan(x) + sec(x)"
      ]
     },
     "execution_count": 6,
     "metadata": {},
     "output_type": "execute_result"
    }
   ],
   "source": [
    "sympy.sin(x)+sympy.tan(x)+sympy.sec(x)"
   ]
  },
  {
   "cell_type": "code",
   "execution_count": 7,
   "id": "5eb93600-446b-4538-aef8-9ee34ed48a8a",
   "metadata": {
    "tags": []
   },
   "outputs": [
    {
     "name": "stdout",
     "output_type": "stream",
     "text": [
      "3.414213562373095\n",
      "-0.9880316240928618\n",
      "1.0\n",
      "2.302585092994046\n"
     ]
    }
   ],
   "source": [
    "# ให้คิดเลขต้องใช้ math\n",
    "import math\n",
    "print(math.sqrt(2) + math.sqrt(4))\n",
    "print(math.sin(30))\n",
    "print(math.log10(10))\n",
    "print(math.log(10)) #log ฐาน e"
   ]
  },
  {
   "cell_type": "code",
   "execution_count": 8,
   "id": "06407ed9-8673-4b08-a8f0-d04588b89b23",
   "metadata": {
    "tags": []
   },
   "outputs": [
    {
     "data": {
      "text/latex": [
       "$\\displaystyle 2 x + 2 y$"
      ],
      "text/plain": [
       "2*x + 2*y"
      ]
     },
     "execution_count": 8,
     "metadata": {},
     "output_type": "execute_result"
    }
   ],
   "source": [
    "# กระจาย\n",
    "sympy.expand(2*(x + y))"
   ]
  },
  {
   "cell_type": "code",
   "execution_count": 9,
   "id": "d8b50cd3-69f6-4d4a-86bf-cc65b465206e",
   "metadata": {
    "tags": []
   },
   "outputs": [
    {
     "data": {
      "text/latex": [
       "$\\displaystyle 2 \\left(x + y\\right)$"
      ],
      "text/plain": [
       "2*(x + y)"
      ]
     },
     "execution_count": 9,
     "metadata": {},
     "output_type": "execute_result"
    }
   ],
   "source": [
    "# ดึงตัวร่วม\n",
    "sympy.factor((2*x)+2*y)"
   ]
  },
  {
   "cell_type": "markdown",
   "id": "a3b98f50-7cd8-43fd-aa70-e76f3e1d13d6",
   "metadata": {},
   "source": [
    "# แก้สมการ"
   ]
  },
  {
   "cell_type": "code",
   "execution_count": 11,
   "id": "5441dc2d-eca4-4a45-8919-3b4e9498358e",
   "metadata": {
    "tags": []
   },
   "outputs": [
    {
     "data": {
      "text/plain": [
       "[1]"
      ]
     },
     "execution_count": 11,
     "metadata": {},
     "output_type": "execute_result"
    }
   ],
   "source": [
    "sympy.solve(x+x-2)\n",
    "# เท่ากับ 0"
   ]
  },
  {
   "cell_type": "code",
   "execution_count": 12,
   "id": "7aea6248-06b3-4ab5-9ad1-a900229d59b2",
   "metadata": {
    "tags": []
   },
   "outputs": [
    {
     "data": {
      "text/latex": [
       "$\\displaystyle 2 x - 3 = 1$"
      ],
      "text/plain": [
       "Eq(2*x - 3, 1)"
      ]
     },
     "execution_count": 12,
     "metadata": {},
     "output_type": "execute_result"
    }
   ],
   "source": [
    "# สร้างสมการ\n",
    "sympy.Eq(x+x-3, 1)"
   ]
  },
  {
   "cell_type": "code",
   "execution_count": 13,
   "id": "ea72de94-2b42-4e49-a59a-56bb1b072d42",
   "metadata": {
    "tags": []
   },
   "outputs": [
    {
     "data": {
      "text/latex": [
       "$\\displaystyle \\left\\{2\\right\\}$"
      ],
      "text/plain": [
       "{2}"
      ]
     },
     "execution_count": 13,
     "metadata": {},
     "output_type": "execute_result"
    }
   ],
   "source": [
    "# แก้สมการ\n",
    "sympy.solveset(sympy.Eq(x+x-3, 1))"
   ]
  },
  {
   "cell_type": "code",
   "execution_count": 14,
   "id": "73bacede-cab8-4709-80a6-2ef8c591cad9",
   "metadata": {
    "tags": []
   },
   "outputs": [
    {
     "data": {
      "text/latex": [
       "$\\displaystyle \\left\\{-7, 2\\right\\}$"
      ],
      "text/plain": [
       "{-7, 2}"
      ]
     },
     "execution_count": 14,
     "metadata": {},
     "output_type": "execute_result"
    }
   ],
   "source": [
    "# แก้สมการยกกำลัง\n",
    "sympy.solveset(sympy.Eq(x**2+5*x-13, 1))"
   ]
  },
  {
   "cell_type": "code",
   "execution_count": 15,
   "id": "1586b0b2-4652-49f9-94ae-33646f43e2de",
   "metadata": {
    "tags": []
   },
   "outputs": [
    {
     "data": {
      "text/plain": [
       "1"
      ]
     },
     "execution_count": 15,
     "metadata": {},
     "output_type": "execute_result"
    }
   ],
   "source": [
    "# ลองแทนค่า\n",
    "2**2+5*2-13"
   ]
  },
  {
   "cell_type": "code",
   "execution_count": 16,
   "id": "766c2b9d-cfa7-485b-85fb-cbb23b9342ad",
   "metadata": {
    "tags": []
   },
   "outputs": [
    {
     "data": {
      "text/latex": [
       "$\\displaystyle \\left\\{1 - \\log{\\left(2 \\right)}\\right\\}$"
      ],
      "text/plain": [
       "{1 - log(2)}"
      ]
     },
     "execution_count": 16,
     "metadata": {},
     "output_type": "execute_result"
    }
   ],
   "source": [
    "# แก้สมการติด log\n",
    "sympy.solveset(sympy.Eq(sympy.log(2)+x, 1))"
   ]
  },
  {
   "cell_type": "code",
   "execution_count": 17,
   "id": "535badfe-0950-4e80-a52d-cf7fd1da3dc3",
   "metadata": {
    "tags": []
   },
   "outputs": [
    {
     "data": {
      "text/plain": [
       "0.6989700043360187"
      ]
     },
     "execution_count": 17,
     "metadata": {},
     "output_type": "execute_result"
    }
   ],
   "source": [
    "# คิดเลขด้วย math\n",
    "1 - math.log10(2)"
   ]
  },
  {
   "cell_type": "code",
   "execution_count": 18,
   "id": "5a2a1f09-87f5-4991-8b5f-6f9f375c7767",
   "metadata": {
    "tags": []
   },
   "outputs": [
    {
     "data": {
      "text/latex": [
       "$\\displaystyle \\left\\{\\sqrt[3]{y}, - \\frac{\\sqrt[3]{y}}{2} - \\frac{\\sqrt{3} i \\sqrt[3]{y}}{2}, - \\frac{\\sqrt[3]{y}}{2} + \\frac{\\sqrt{3} i \\sqrt[3]{y}}{2}\\right\\}$"
      ],
      "text/plain": [
       "{y**(1/3), -y**(1/3)/2 - sqrt(3)*I*y**(1/3)/2, -y**(1/3)/2 + sqrt(3)*I*y**(1/3)/2}"
      ]
     },
     "execution_count": 18,
     "metadata": {},
     "output_type": "execute_result"
    }
   ],
   "source": [
    "# สมการหลายตัวแปร\n",
    "sympy.solveset(sympy.Eq(x**3, y), x)\n",
    "# ได้จำนวนจินตภาพด้วย"
   ]
  },
  {
   "cell_type": "code",
   "execution_count": 19,
   "id": "08a88a28-583e-4e4c-b280-527531ea6b87",
   "metadata": {
    "tags": []
   },
   "outputs": [
    {
     "data": {
      "text/plain": [
       "[y**(1/3),\n",
       " -y**(1/3)/2 - sqrt(3)*I*y**(1/3)/2,\n",
       " -y**(1/3)/2 + sqrt(3)*I*y**(1/3)/2]"
      ]
     },
     "execution_count": 19,
     "metadata": {},
     "output_type": "execute_result"
    }
   ],
   "source": [
    "sympy.solve(sympy.Eq(x**3, y), x)"
   ]
  },
  {
   "cell_type": "code",
   "execution_count": 20,
   "id": "82af8434-6481-4b8e-85f3-431c1910058c",
   "metadata": {
    "tags": []
   },
   "outputs": [
    {
     "data": {
      "text/latex": [
       "$\\displaystyle \\left\\{\\left( -1, \\  3\\right)\\right\\}$"
      ],
      "text/plain": [
       "{(-1, 3)}"
      ]
     },
     "execution_count": 20,
     "metadata": {},
     "output_type": "execute_result"
    }
   ],
   "source": [
    "# สมการเชิงเส้นหลายตัวแปร\n",
    "eqn1 = sympy.Eq(2*x+y, 1)\n",
    "eqn2 = sympy.Eq(x+2*y, 5)\n",
    "system = [eqn1, eqn2]\n",
    "sympy.linsolve(system,x,y)"
   ]
  },
  {
   "cell_type": "code",
   "execution_count": 21,
   "id": "eeafe599-6d4e-44ea-a058-18c7bda825da",
   "metadata": {
    "tags": []
   },
   "outputs": [
    {
     "data": {
      "image/png": "[encoded data removed]",
      "text/plain": [
       "<Figure size 640x480 with 1 Axes>"
      ]
     },
     "metadata": {},
     "output_type": "display_data"
    }
   ],
   "source": [
    "# plot function\n",
    "a = sympy.plot(1-2*x, legend = True, show = False)\n",
    "a.extend(sympy.plot((5-x)/2, legend = True, show = False))\n",
    "a.show()"
   ]
  },
  {
   "cell_type": "code",
   "execution_count": 22,
   "id": "34271ac1-e5c9-41d4-9c8d-ba9ef6600578",
   "metadata": {
    "tags": []
   },
   "outputs": [
    {
     "data": {
      "text/latex": [
       "$\\displaystyle \\left\\{\\left( - \\frac{1}{7}, \\  \\frac{34}{7}, \\  - \\frac{4}{7}\\right)\\right\\}$"
      ],
      "text/plain": [
       "{(-1/7, 34/7, -4/7)}"
      ]
     },
     "execution_count": 22,
     "metadata": {},
     "output_type": "execute_result"
    }
   ],
   "source": [
    "# สมการเชิงเส้นหลายตัวแปร\n",
    "eqn1 = sympy.Eq(2*x+y+z-3, 1)\n",
    "eqn2 = sympy.Eq(x+2*y+z-4, 5)\n",
    "eqn3 = sympy.Eq(x+y+3*z-3, 0)\n",
    "system = [eqn1, eqn2, eqn3]\n",
    "sympy.linsolve(system,x,y,z)"
   ]
  },
  {
   "cell_type": "code",
   "execution_count": 23,
   "id": "38708034-e13b-484d-8ef9-fe2ca7b7da7f",
   "metadata": {
    "tags": []
   },
   "outputs": [
    {
     "data": {
      "text/latex": [
       "$\\displaystyle \\left\\{\\left( 2, \\  3\\right), \\left( \\frac{- 1656 \\sqrt{6303} - 2101 \\cdot \\sqrt[3]{2} \\cdot 3^{\\frac{2}{3}} i \\left(207 + \\sqrt{6303} i\\right)^{\\frac{2}{3}} - 222 \\cdot \\sqrt[3]{2} \\sqrt{2101} \\cdot \\sqrt[6]{3} \\left(207 + \\sqrt{6303} i\\right)^{\\frac{2}{3}} + 316 \\cdot 2^{\\frac{2}{3}} \\sqrt{2101} \\cdot 3^{\\frac{5}{6}} \\sqrt[3]{207 + \\sqrt{6303} i} + 1035 \\cdot \\sqrt[3]{18} i \\left(207 + \\sqrt{6303} i\\right)^{\\frac{2}{3}} + 146184 i + 12606 \\cdot 2^{\\frac{2}{3}} \\cdot \\sqrt[3]{3} i \\sqrt[3]{207 + \\sqrt{6303} i} + 20286 \\cdot \\sqrt[3]{12} i \\sqrt[3]{207 + \\sqrt{6303} i}}{36 \\cdot \\left(69 \\sqrt{6303} - 6091 i\\right)}, \\  -1 + \\frac{16}{3 \\sqrt[3]{\\frac{23}{2} + \\frac{\\sqrt{6303} i}{18}}} + \\sqrt[3]{\\frac{23}{2} + \\frac{\\sqrt{6303} i}{18}}\\right), \\left( \\frac{- 6624 \\sqrt{6303} - 1896 \\cdot 2^{\\frac{2}{3}} \\sqrt{2101} \\cdot \\sqrt[3]{3} i \\sqrt[3]{207 + \\sqrt{6303} i} - 12151 \\cdot \\sqrt[3]{2} \\cdot 3^{\\frac{2}{3}} i \\left(207 + \\sqrt{6303} i\\right)^{\\frac{2}{3}} - 237 \\cdot \\sqrt[3]{2} \\sqrt{2101} \\cdot 3^{\\frac{2}{3}} i \\left(207 + \\sqrt{6303} i\\right)^{\\frac{2}{3}} - 65784 \\cdot 2^{\\frac{2}{3}} \\cdot \\sqrt[3]{3} i \\sqrt[3]{207 + \\sqrt{6303} i} - 207 \\cdot \\sqrt[3]{18} \\sqrt{2101} i \\left(207 + \\sqrt{6303} i\\right)^{\\frac{2}{3}} - 632 \\cdot 2^{\\frac{2}{3}} \\sqrt{2101} \\cdot 3^{\\frac{5}{6}} \\sqrt[3]{207 + \\sqrt{6303} i} + 6396 \\cdot \\sqrt[3]{2} \\cdot \\sqrt[6]{3} \\left(207 + \\sqrt{6303} i\\right)^{\\frac{2}{3}} + 65784 \\cdot 2^{\\frac{2}{3}} \\cdot 3^{\\frac{5}{6}} \\sqrt[3]{207 + \\sqrt{6303} i} + 444 \\cdot \\sqrt[3]{2} \\sqrt{2101} \\cdot \\sqrt[6]{3} \\left(207 + \\sqrt{6303} i\\right)^{\\frac{2}{3}} + 584736 i + 14283 \\cdot \\sqrt[3]{18} i \\left(207 + \\sqrt{6303} i\\right)^{\\frac{2}{3}}}{144 \\cdot \\left(69 \\sqrt{6303} - 6091 i\\right)}, \\  -1 + \\left(- \\frac{1}{2} - \\frac{\\sqrt{3} i}{2}\\right) \\sqrt[3]{\\frac{23}{2} + \\frac{\\sqrt{6303} i}{18}} + \\frac{16}{3 \\left(- \\frac{1}{2} - \\frac{\\sqrt{3} i}{2}\\right) \\sqrt[3]{\\frac{23}{2} + \\frac{\\sqrt{6303} i}{18}}}\\right), \\left( \\frac{- 46 \\sqrt{6303} - \\frac{4761 i \\sqrt[3]{2484 + 12 \\sqrt{6303} i}}{8} - \\frac{2741 \\cdot 2^{\\frac{2}{3}} \\cdot 3^{\\frac{5}{6}} \\sqrt[3]{207 + \\sqrt{6303} i}}{6} - \\frac{533 \\cdot \\sqrt[3]{2} \\cdot \\sqrt[6]{3} \\left(207 + \\sqrt{6303} i\\right)^{\\frac{2}{3}}}{12} - \\frac{79 \\cdot 2^{\\frac{2}{3}} \\sqrt{2101} \\cdot 3^{\\frac{5}{6}} \\sqrt[3]{207 + \\sqrt{6303} i}}{18} + \\frac{533 \\cdot \\sqrt[3]{2} i \\left(621 + 3 \\sqrt{6303} i\\right)^{\\frac{2}{3}}}{36} + \\frac{37 \\cdot \\sqrt[3]{2} \\sqrt{2101} \\cdot \\sqrt[6]{3} \\left(207 + \\sqrt{6303} i\\right)^{\\frac{2}{3}}}{12} + \\frac{3319 \\cdot 2^{\\frac{2}{3}} i \\sqrt[3]{621 + 3 \\sqrt{6303} i}}{24} + \\frac{109 \\cdot 2^{\\frac{2}{3}} \\sqrt{2101} i \\sqrt[3]{621 + 3 \\sqrt{6303} i}}{24} + \\frac{12182 i}{3} + \\frac{69 \\sqrt{2101} i \\sqrt[3]{2484 + 12 \\sqrt{6303} i}}{8} + \\frac{37 \\cdot \\sqrt[3]{2} \\sqrt{2101} i \\left(621 + 3 \\sqrt{6303} i\\right)^{\\frac{2}{3}}}{12}}{69 \\sqrt{6303} - 6091 i}, \\  -1 + \\frac{16}{3 \\left(- \\frac{1}{2} + \\frac{\\sqrt{3} i}{2}\\right) \\sqrt[3]{\\frac{23}{2} + \\frac{\\sqrt{6303} i}{18}}} + \\left(- \\frac{1}{2} + \\frac{\\sqrt{3} i}{2}\\right) \\sqrt[3]{\\frac{23}{2} + \\frac{\\sqrt{6303} i}{18}}\\right)\\right\\}$"
      ],
      "text/plain": [
       "{(2, 3), ((-1656*sqrt(6303) - 2101*2**(1/3)*3**(2/3)*I*(207 + sqrt(6303)*I)**(2/3) - 222*2**(1/3)*sqrt(2101)*3**(1/6)*(207 + sqrt(6303)*I)**(2/3) + 316*2**(2/3)*sqrt(2101)*3**(5/6)*(207 + sqrt(6303)*I)**(1/3) + 1035*18**(1/3)*I*(207 + sqrt(6303)*I)**(2/3) + 146184*I + 12606*2**(2/3)*3**(1/3)*I*(207 + sqrt(6303)*I)**(1/3) + 20286*12**(1/3)*I*(207 + sqrt(6303)*I)**(1/3))/(36*(69*sqrt(6303) - 6091*I)), -1 + 16/(3*(23/2 + sqrt(6303)*I/18)**(1/3)) + (23/2 + sqrt(6303)*I/18)**(1/3)), ((-6624*sqrt(6303) - 1896*2**(2/3)*sqrt(2101)*3**(1/3)*I*(207 + sqrt(6303)*I)**(1/3) - 12151*2**(1/3)*3**(2/3)*I*(207 + sqrt(6303)*I)**(2/3) - 237*2**(1/3)*sqrt(2101)*3**(2/3)*I*(207 + sqrt(6303)*I)**(2/3) - 65784*2**(2/3)*3**(1/3)*I*(207 + sqrt(6303)*I)**(1/3) - 207*18**(1/3)*sqrt(2101)*I*(207 + sqrt(6303)*I)**(2/3) - 632*2**(2/3)*sqrt(2101)*3**(5/6)*(207 + sqrt(6303)*I)**(1/3) + 6396*2**(1/3)*3**(1/6)*(207 + sqrt(6303)*I)**(2/3) + 65784*2**(2/3)*3**(5/6)*(207 + sqrt(6303)*I)**(1/3) + 444*2**(1/3)*sqrt(2101)*3**(1/6)*(207 + sqrt(6303)*I)**(2/3) + 584736*I + 14283*18**(1/3)*I*(207 + sqrt(6303)*I)**(2/3))/(144*(69*sqrt(6303) - 6091*I)), -1 + (-1/2 - sqrt(3)*I/2)*(23/2 + sqrt(6303)*I/18)**(1/3) + 16/(3*(-1/2 - sqrt(3)*I/2)*(23/2 + sqrt(6303)*I/18)**(1/3))), ((-46*sqrt(6303) - 4761*I*(2484 + 12*sqrt(6303)*I)**(1/3)/8 - 2741*2**(2/3)*3**(5/6)*(207 + sqrt(6303)*I)**(1/3)/6 - 533*2**(1/3)*3**(1/6)*(207 + sqrt(6303)*I)**(2/3)/12 - 79*2**(2/3)*sqrt(2101)*3**(5/6)*(207 + sqrt(6303)*I)**(1/3)/18 + 533*2**(1/3)*I*(621 + 3*sqrt(6303)*I)**(2/3)/36 + 37*2**(1/3)*sqrt(2101)*3**(1/6)*(207 + sqrt(6303)*I)**(2/3)/12 + 3319*2**(2/3)*I*(621 + 3*sqrt(6303)*I)**(1/3)/24 + 109*2**(2/3)*sqrt(2101)*I*(621 + 3*sqrt(6303)*I)**(1/3)/24 + 12182*I/3 + 69*sqrt(2101)*I*(2484 + 12*sqrt(6303)*I)**(1/3)/8 + 37*2**(1/3)*sqrt(2101)*I*(621 + 3*sqrt(6303)*I)**(2/3)/12)/(69*sqrt(6303) - 6091*I), -1 + 16/(3*(-1/2 + sqrt(3)*I/2)*(23/2 + sqrt(6303)*I/18)**(1/3)) + (-1/2 + sqrt(3)*I/2)*(23/2 + sqrt(6303)*I/18)**(1/3))}"
      ]
     },
     "execution_count": 23,
     "metadata": {},
     "output_type": "execute_result"
    }
   ],
   "source": [
    "# สมการไม่เชิงเส้นหลายตัวแปร\n",
    "eqn1 = sympy.Eq(x**2+y,7)\n",
    "eqn2 = sympy.Eq(x+y**2, 11)\n",
    "system = [eqn1, eqn2]\n",
    "sympy.nonlinsolve(system,x,y)"
   ]
  },
  {
   "cell_type": "markdown",
   "id": "1b616bd2-c5a4-4d2b-a6f7-b44b22448c21",
   "metadata": {
    "tags": []
   },
   "source": [
    "# Basic Calculus"
   ]
  },
  {
   "cell_type": "code",
   "execution_count": 25,
   "id": "9386b06a-219f-4087-9bfb-b3c25e12c71e",
   "metadata": {
    "tags": []
   },
   "outputs": [
    {
     "data": {
      "text/latex": [
       "$\\displaystyle \\frac{1}{2}$"
      ],
      "text/plain": [
       "1/2"
      ]
     },
     "execution_count": 25,
     "metadata": {},
     "output_type": "execute_result"
    }
   ],
   "source": [
    "# limit\n",
    "sympy.limit(1/x,x,2)"
   ]
  },
  {
   "cell_type": "code",
   "execution_count": 26,
   "id": "6b3ba26a-a2f2-4c18-8aaf-084ced101700",
   "metadata": {
    "tags": []
   },
   "outputs": [
    {
     "data": {
      "text/latex": [
       "$\\displaystyle 0$"
      ],
      "text/plain": [
       "0"
      ]
     },
     "execution_count": 26,
     "metadata": {},
     "output_type": "execute_result"
    }
   ],
   "source": [
    "# limit infinity\n",
    "sympy.limit(1/x,x,sympy.oo)"
   ]
  },
  {
   "cell_type": "code",
   "execution_count": 27,
   "id": "79ab7f28-af39-4312-9766-0808d3a2125b",
   "metadata": {
    "tags": []
   },
   "outputs": [
    {
     "data": {
      "text/latex": [
       "$\\displaystyle 3 x^{2}$"
      ],
      "text/plain": [
       "3*x**2"
      ]
     },
     "execution_count": 27,
     "metadata": {},
     "output_type": "execute_result"
    }
   ],
   "source": [
    "# ดิฟ\n",
    "sympy.diff(x**3)"
   ]
  },
  {
   "cell_type": "code",
   "execution_count": 28,
   "id": "a7d218aa-cbb8-4e4b-9138-16f596afd61d",
   "metadata": {
    "tags": []
   },
   "outputs": [
    {
     "data": {
      "text/latex": [
       "$\\displaystyle \\cos{\\left(x \\right)}$"
      ],
      "text/plain": [
       "cos(x)"
      ]
     },
     "execution_count": 28,
     "metadata": {},
     "output_type": "execute_result"
    }
   ],
   "source": [
    "# ดิฟตรีโกณ\n",
    "sympy.diff(sympy.sin(x))"
   ]
  },
  {
   "cell_type": "code",
   "execution_count": 29,
   "id": "72c56bf0-487e-4f38-babf-8204a285de7a",
   "metadata": {
    "tags": []
   },
   "outputs": [
    {
     "data": {
      "text/latex": [
       "$\\displaystyle 3 x^{2}$"
      ],
      "text/plain": [
       "3*x**2"
      ]
     },
     "execution_count": 29,
     "metadata": {},
     "output_type": "execute_result"
    }
   ],
   "source": [
    "# ดิฟหลายตัวแปร\n",
    "sympy.diff(x**3 + y, x)"
   ]
  },
  {
   "cell_type": "code",
   "execution_count": 30,
   "id": "7d6c395e-fe41-4c36-8a98-bffd6b5835fb",
   "metadata": {
    "tags": []
   },
   "outputs": [
    {
     "data": {
      "text/latex": [
       "$\\displaystyle \\frac{x^{4}}{4}$"
      ],
      "text/plain": [
       "x**4/4"
      ]
     },
     "execution_count": 30,
     "metadata": {},
     "output_type": "execute_result"
    }
   ],
   "source": [
    "# อินทิเกรท\n",
    "sympy.integrate(x**3)"
   ]
  },
  {
   "cell_type": "code",
   "execution_count": 31,
   "id": "c73e9148-b092-4e94-a23d-8e376d580d27",
   "metadata": {
    "tags": []
   },
   "outputs": [
    {
     "data": {
      "text/latex": [
       "$\\displaystyle x^{3} y + \\frac{y^{2}}{2}$"
      ],
      "text/plain": [
       "x**3*y + y**2/2"
      ]
     },
     "execution_count": 31,
     "metadata": {},
     "output_type": "execute_result"
    }
   ],
   "source": [
    "# อินทิเกรทหลายตัวแปร\n",
    "sympy.integrate(x**3+y,y)"
   ]
  },
  {
   "cell_type": "code",
   "execution_count": 32,
   "id": "b5509ee1-6b5d-4eea-bcdd-460e94e82811",
   "metadata": {
    "tags": []
   },
   "outputs": [
    {
     "data": {
      "text/latex": [
       "$\\displaystyle \\frac{65}{4}$"
      ],
      "text/plain": [
       "65/4"
      ]
     },
     "execution_count": 32,
     "metadata": {},
     "output_type": "execute_result"
    }
   ],
   "source": [
    "# อินทิเกรทช่วง\n",
    "sympy.integrate(x**3, (x,2,3))"
   ]
  },
  {
   "cell_type": "code",
   "execution_count": 33,
   "id": "bb7a94e8-83e0-4991-b252-97a05026b8fc",
   "metadata": {
    "tags": []
   },
   "outputs": [],
   "source": [
    "# Lagrange Multiplier"
   ]
  },
  {
   "cell_type": "code",
   "execution_count": 34,
   "id": "93d7c8a9-7131-476a-84c9-d12a5b383ae1",
   "metadata": {
    "tags": []
   },
   "outputs": [],
   "source": [
    "# กำหนดตัวแปร\n",
    "Px = sympy.symbols('Px')\n",
    "Py = sympy.symbols('Py')\n",
    "U = sympy.symbols('U')\n",
    "m = sympy.symbols('m')\n",
    "L = sympy.symbols('L')\n",
    "lamda = sympy.symbols('lamda')"
   ]
  },
  {
   "cell_type": "code",
   "execution_count": 35,
   "id": "3fcc2bc5-6b3a-4952-9ac3-1087e359166f",
   "metadata": {
    "tags": []
   },
   "outputs": [],
   "source": [
    "## โจทย์\n",
    "# min m = Px*x + Py*y\n",
    "# subject to x*y = U"
   ]
  },
  {
   "cell_type": "code",
   "execution_count": 36,
   "id": "569fa819-bfec-43d9-93fa-f399bc73af44",
   "metadata": {
    "tags": []
   },
   "outputs": [
    {
     "data": {
      "text/latex": [
       "$\\displaystyle L = Px x + Py y - \\lambda \\left(U - x y\\right)$"
      ],
      "text/plain": [
       "Eq(L, Px*x + Py*y - lamda*(U - x*y))"
      ]
     },
     "execution_count": 36,
     "metadata": {},
     "output_type": "execute_result"
    }
   ],
   "source": [
    "sympy.Eq(L,Px*x + Py*y - lamda*(U - x*y))"
   ]
  },
  {
   "cell_type": "code",
   "execution_count": 37,
   "id": "8b660ca8-2e79-4d6b-9017-a33e180ce1b9",
   "metadata": {
    "tags": []
   },
   "outputs": [
    {
     "data": {
      "text/latex": [
       "$\\displaystyle \\left\\{\\left( - \\frac{U \\sqrt{\\frac{Px Py}{U}}}{Px}, \\  - \\frac{U \\sqrt{\\frac{Px Py}{U}}}{Py}, \\  \\sqrt{\\frac{Px Py}{U}}\\right), \\left( \\frac{U \\sqrt{\\frac{Px Py}{U}}}{Px}, \\  \\frac{U \\sqrt{\\frac{Px Py}{U}}}{Py}, \\  - \\sqrt{\\frac{Px Py}{U}}\\right)\\right\\}$"
      ],
      "text/plain": [
       "{(-U*sqrt(Px*Py/U)/Px, -U*sqrt(Px*Py/U)/Py, sqrt(Px*Py/U)), (U*sqrt(Px*Py/U)/Px, U*sqrt(Px*Py/U)/Py, -sqrt(Px*Py/U))}"
      ]
     },
     "execution_count": 37,
     "metadata": {},
     "output_type": "execute_result"
    }
   ],
   "source": [
    "system = []\n",
    "for X_i in [x, y, lamda]:\n",
    "    a = sympy.Eq(sympy.diff(Px*x + Py*y - lamda*(U - x*y), X_i),0)\n",
    "    system.append(a)\n",
    "sympy.nonlinsolve(system,x,y,lamda)"
   ]
  }
 ],
 "metadata": {
  "kernelspec": {
   "display_name": "Python 3 (ipykernel)",
   "language": "python",
   "name": "python3"
  },
  "language_info": {
   "codemirror_mode": {
    "name": "ipython",
    "version": 3
   },
   "file_extension": ".py",
   "mimetype": "text/x-python",
   "name": "python",
   "nbconvert_exporter": "python",
   "pygments_lexer": "ipython3",
   "version": "3.11.5"
  }
 },
 "nbformat": 4,
 "nbformat_minor": 5
}
